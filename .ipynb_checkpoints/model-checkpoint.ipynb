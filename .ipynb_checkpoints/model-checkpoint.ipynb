{
 "cells": [
  {
   "cell_type": "code",
   "execution_count": 1,
   "metadata": {
    "ExecuteTime": {
     "end_time": "2024-10-22T03:59:52.198998Z",
     "start_time": "2024-10-22T03:59:48.543314Z"
    }
   },
   "outputs": [],
   "source": [
    "import json\n",
    "import numpy as np\n",
    "from sklearn.preprocessing import LabelEncoder\n",
    "from sklearn.model_selection import train_test_split\n",
    "from tensorflow.keras.models import Sequential\n",
    "from tensorflow.keras.layers import Dense, Dropout\n",
    "from sklearn.metrics import classification_report\n",
    "from tensorflow.keras.datasets import mnist\n"
   ]
  },
  {
   "cell_type": "code",
   "execution_count": 2,
   "metadata": {
    "ExecuteTime": {
     "end_time": "2024-10-22T03:59:52.677965Z",
     "start_time": "2024-10-22T03:59:52.200625Z"
    }
   },
   "outputs": [],
   "source": [
    "with open(\"generated_data.json\", \"r\") as f:\n",
    "    data = json.load(f)"
   ]
  },
  {
   "cell_type": "code",
   "execution_count": 3,
   "metadata": {
    "ExecuteTime": {
     "end_time": "2024-10-22T03:59:52.822174Z",
     "start_time": "2024-10-22T03:59:52.680727Z"
    }
   },
   "outputs": [],
   "source": [
    "X = []\n",
    "y = []\n",
    "\n",
    "for item in data:\n",
    "    keypoints = item[\"keypoints\"][0]\n",
    "    X.append(np.array(keypoints).flatten())\n",
    "    y.append(item[\"label\"])\n",
    "X = np.array(X)"
   ]
  },
  {
   "cell_type": "code",
   "execution_count": 4,
   "metadata": {
    "ExecuteTime": {
     "end_time": "2024-10-22T03:59:52.836415Z",
     "start_time": "2024-10-22T03:59:52.827412Z"
    }
   },
   "outputs": [
    {
     "name": "stdout",
     "output_type": "stream",
     "text": [
      "[0 0 0 ... 2 2 2]\n"
     ]
    }
   ],
   "source": [
    "label_encoder = LabelEncoder()\n",
    "y_encoded = label_encoder.fit_transform(y)\n",
    "print(y_encoded)"
   ]
  },
  {
   "cell_type": "code",
   "execution_count": 5,
   "metadata": {
    "ExecuteTime": {
     "end_time": "2024-10-22T03:59:52.863073Z",
     "start_time": "2024-10-22T03:59:52.835590Z"
    }
   },
   "outputs": [],
   "source": [
    "X_train, X_test, y_train, y_test = train_test_split(\n",
    "    X, y_encoded, test_size=0.2, random_state=42\n",
    ")\n",
    "# (X_train, y_train), (X_test, y_test) = mnist.load_data()\n"
   ]
  },
  {
   "cell_type": "code",
   "execution_count": 6,
   "metadata": {
    "ExecuteTime": {
     "end_time": "2024-10-22T03:59:52.868790Z",
     "start_time": "2024-10-22T03:59:52.844081Z"
    }
   },
   "outputs": [
    {
     "name": "stdout",
     "output_type": "stream",
     "text": [
      "X_train shape: (32000, 34)\n",
      "y_train shape: (32000,)\n",
      "X_test shape: (8000, 34)\n",
      "y_test shape: (8000,)\n"
     ]
    }
   ],
   "source": [
    "print(\"X_train shape:\", X_train.shape)\n",
    "print(\"y_train shape:\", y_train.shape)\n",
    "print(\"X_test shape:\", X_test.shape)\n",
    "print(\"y_test shape:\", y_test.shape)\n"
   ]
  },
  {
   "cell_type": "code",
   "execution_count": 7,
   "metadata": {
    "ExecuteTime": {
     "end_time": "2024-10-22T03:59:52.869161Z",
     "start_time": "2024-10-22T03:59:52.846216Z"
    }
   },
   "outputs": [],
   "source": [
    "num_classes = len(label_encoder.classes_)\n",
    "input_shape = X_train.shape[1]"
   ]
  },
  {
   "cell_type": "code",
   "execution_count": 8,
   "metadata": {
    "ExecuteTime": {
     "end_time": "2024-10-22T03:59:52.869278Z",
     "start_time": "2024-10-22T03:59:52.848914Z"
    }
   },
   "outputs": [],
   "source": [
    "X_train = X_train.reshape(-1, 17, 2, 1)\n",
    "X_test = X_test.reshape(-1, 17, 2, 1)"
   ]
  },
  {
   "cell_type": "code",
   "execution_count": 9,
   "metadata": {
    "ExecuteTime": {
     "end_time": "2024-10-22T03:59:52.997925Z",
     "start_time": "2024-10-22T03:59:52.855458Z"
    }
   },
   "outputs": [
    {
     "name": "stderr",
     "output_type": "stream",
     "text": [
      "/Users/mikeshinoda/Library/Caches/pypoetry/virtualenvs/yolo-pose-estimation-DqWaCygJ-py3.12/lib/python3.12/site-packages/keras/src/layers/convolutional/base_conv.py:107: UserWarning: Do not pass an `input_shape`/`input_dim` argument to a layer. When using Sequential models, prefer using an `Input(shape)` object as the first layer in the model instead.\n",
      "  super().__init__(activity_regularizer=activity_regularizer, **kwargs)\n"
     ]
    }
   ],
   "source": [
    "from tensorflow.keras.models import Sequential\n",
    "from tensorflow.keras.layers import Conv2D, MaxPooling2D, Flatten, Dense, Dropout\n",
    "\n",
    "num_classes = len(label_encoder.classes_)\n",
    "input_shape = (17, 2, 1)  # 高度、宽度、通道数\n",
    "\n",
    "model = Sequential()\n",
    "model.add(Conv2D(32, kernel_size=(3, 2), activation='relu', input_shape=input_shape))\n",
    "model.add(MaxPooling2D(pool_size=(2, 1)))\n",
    "model.add(Dropout(0.25))\n",
    "\n",
    "model.add(Conv2D(64, kernel_size=(3, 1), activation='relu'))\n",
    "model.add(MaxPooling2D(pool_size=(2, 1)))\n",
    "model.add(Dropout(0.25))\n",
    "\n",
    "model.add(Flatten())\n",
    "model.add(Dense(128, activation='relu'))\n",
    "model.add(Dropout(0.5))\n",
    "model.add(Dense(num_classes, activation='softmax'))\n",
    "\n",
    "# 编译模型\n",
    "model.compile(optimizer='adam', loss='sparse_categorical_crossentropy', metrics=['accuracy'])\n"
   ]
  },
  {
   "cell_type": "code",
   "execution_count": 10,
   "metadata": {
    "ExecuteTime": {
     "end_time": "2024-10-22T03:59:53.002871Z",
     "start_time": "2024-10-22T03:59:52.998837Z"
    }
   },
   "outputs": [],
   "source": [
    "# model = Sequential()\n",
    "# model.add(Dense(128, activation=\"relu\", input_shape=(input_shape,)))\n",
    "# model.add(Dropout(0.5))\n",
    "# model.add(Dense(64, activation=\"relu\"))\n",
    "# model.add(Dense(num_classes, activation=\"softmax\"))\n",
    "\n",
    "# model.compile(\n",
    "#     optimizer=\"adam\", loss=\"sparse_categorical_crossentropy\", metrics=[\"accuracy\"]\n",
    "# )"
   ]
  },
  {
   "cell_type": "code",
   "execution_count": 11,
   "metadata": {
    "ExecuteTime": {
     "end_time": "2024-10-22T04:00:34.643094Z",
     "start_time": "2024-10-22T03:59:53.001635Z"
    }
   },
   "outputs": [
    {
     "name": "stdout",
     "output_type": "stream",
     "text": [
      "Epoch 1/50\n",
      "\u001B[1m900/900\u001B[0m \u001B[32m━━━━━━━━━━━━━━━━━━━━\u001B[0m\u001B[37m\u001B[0m \u001B[1m1s\u001B[0m 1ms/step - accuracy: 0.6140 - loss: 0.8013 - val_accuracy: 0.8606 - val_loss: 0.2837\n",
      "Epoch 2/50\n",
      "\u001B[1m900/900\u001B[0m \u001B[32m━━━━━━━━━━━━━━━━━━━━\u001B[0m\u001B[37m\u001B[0m \u001B[1m1s\u001B[0m 940us/step - accuracy: 0.8613 - loss: 0.2934 - val_accuracy: 0.8875 - val_loss: 0.2458\n",
      "Epoch 3/50\n",
      "\u001B[1m900/900\u001B[0m \u001B[32m━━━━━━━━━━━━━━━━━━━━\u001B[0m\u001B[37m\u001B[0m \u001B[1m1s\u001B[0m 987us/step - accuracy: 0.8805 - loss: 0.2591 - val_accuracy: 0.9028 - val_loss: 0.2111\n",
      "Epoch 4/50\n",
      "\u001B[1m900/900\u001B[0m \u001B[32m━━━━━━━━━━━━━━━━━━━━\u001B[0m\u001B[37m\u001B[0m \u001B[1m1s\u001B[0m 957us/step - accuracy: 0.8982 - loss: 0.2296 - val_accuracy: 0.9128 - val_loss: 0.2025\n",
      "Epoch 5/50\n",
      "\u001B[1m900/900\u001B[0m \u001B[32m━━━━━━━━━━━━━━━━━━━━\u001B[0m\u001B[37m\u001B[0m \u001B[1m1s\u001B[0m 888us/step - accuracy: 0.9041 - loss: 0.2212 - val_accuracy: 0.9266 - val_loss: 0.1754\n",
      "Epoch 6/50\n",
      "\u001B[1m900/900\u001B[0m \u001B[32m━━━━━━━━━━━━━━━━━━━━\u001B[0m\u001B[37m\u001B[0m \u001B[1m1s\u001B[0m 886us/step - accuracy: 0.9142 - loss: 0.2008 - val_accuracy: 0.9297 - val_loss: 0.1673\n",
      "Epoch 7/50\n",
      "\u001B[1m900/900\u001B[0m \u001B[32m━━━━━━━━━━━━━━━━━━━━\u001B[0m\u001B[37m\u001B[0m \u001B[1m1s\u001B[0m 891us/step - accuracy: 0.9181 - loss: 0.1977 - val_accuracy: 0.9394 - val_loss: 0.1472\n",
      "Epoch 8/50\n",
      "\u001B[1m900/900\u001B[0m \u001B[32m━━━━━━━━━━━━━━━━━━━━\u001B[0m\u001B[37m\u001B[0m \u001B[1m1s\u001B[0m 889us/step - accuracy: 0.9266 - loss: 0.1762 - val_accuracy: 0.9400 - val_loss: 0.1460\n",
      "Epoch 9/50\n",
      "\u001B[1m900/900\u001B[0m \u001B[32m━━━━━━━━━━━━━━━━━━━━\u001B[0m\u001B[37m\u001B[0m \u001B[1m1s\u001B[0m 932us/step - accuracy: 0.9340 - loss: 0.1631 - val_accuracy: 0.9425 - val_loss: 0.1474\n",
      "Epoch 10/50\n",
      "\u001B[1m900/900\u001B[0m \u001B[32m━━━━━━━━━━━━━━━━━━━━\u001B[0m\u001B[37m\u001B[0m \u001B[1m1s\u001B[0m 889us/step - accuracy: 0.9366 - loss: 0.1595 - val_accuracy: 0.9384 - val_loss: 0.1410\n",
      "Epoch 11/50\n",
      "\u001B[1m900/900\u001B[0m \u001B[32m━━━━━━━━━━━━━━━━━━━━\u001B[0m\u001B[37m\u001B[0m \u001B[1m1s\u001B[0m 888us/step - accuracy: 0.9411 - loss: 0.1497 - val_accuracy: 0.9541 - val_loss: 0.1208\n",
      "Epoch 12/50\n",
      "\u001B[1m900/900\u001B[0m \u001B[32m━━━━━━━━━━━━━━━━━━━━\u001B[0m\u001B[37m\u001B[0m \u001B[1m1s\u001B[0m 874us/step - accuracy: 0.9408 - loss: 0.1476 - val_accuracy: 0.9447 - val_loss: 0.1428\n",
      "Epoch 13/50\n",
      "\u001B[1m900/900\u001B[0m \u001B[32m━━━━━━━━━━━━━━━━━━━━\u001B[0m\u001B[37m\u001B[0m \u001B[1m1s\u001B[0m 885us/step - accuracy: 0.9426 - loss: 0.1464 - val_accuracy: 0.9569 - val_loss: 0.1139\n",
      "Epoch 14/50\n",
      "\u001B[1m900/900\u001B[0m \u001B[32m━━━━━━━━━━━━━━━━━━━━\u001B[0m\u001B[37m\u001B[0m \u001B[1m1s\u001B[0m 886us/step - accuracy: 0.9416 - loss: 0.1424 - val_accuracy: 0.9444 - val_loss: 0.1367\n",
      "Epoch 15/50\n",
      "\u001B[1m900/900\u001B[0m \u001B[32m━━━━━━━━━━━━━━━━━━━━\u001B[0m\u001B[37m\u001B[0m \u001B[1m1s\u001B[0m 1ms/step - accuracy: 0.9507 - loss: 0.1325 - val_accuracy: 0.9603 - val_loss: 0.0990\n",
      "Epoch 16/50\n",
      "\u001B[1m900/900\u001B[0m \u001B[32m━━━━━━━━━━━━━━━━━━━━\u001B[0m\u001B[37m\u001B[0m \u001B[1m1s\u001B[0m 954us/step - accuracy: 0.9534 - loss: 0.1247 - val_accuracy: 0.9678 - val_loss: 0.0917\n",
      "Epoch 17/50\n",
      "\u001B[1m900/900\u001B[0m \u001B[32m━━━━━━━━━━━━━━━━━━━━\u001B[0m\u001B[37m\u001B[0m \u001B[1m1s\u001B[0m 865us/step - accuracy: 0.9550 - loss: 0.1200 - val_accuracy: 0.9666 - val_loss: 0.0881\n",
      "Epoch 18/50\n",
      "\u001B[1m900/900\u001B[0m \u001B[32m━━━━━━━━━━━━━━━━━━━━\u001B[0m\u001B[37m\u001B[0m \u001B[1m1s\u001B[0m 901us/step - accuracy: 0.9603 - loss: 0.1121 - val_accuracy: 0.9737 - val_loss: 0.0764\n",
      "Epoch 19/50\n",
      "\u001B[1m900/900\u001B[0m \u001B[32m━━━━━━━━━━━━━━━━━━━━\u001B[0m\u001B[37m\u001B[0m \u001B[1m1s\u001B[0m 885us/step - accuracy: 0.9509 - loss: 0.1355 - val_accuracy: 0.9656 - val_loss: 0.0964\n",
      "Epoch 20/50\n",
      "\u001B[1m900/900\u001B[0m \u001B[32m━━━━━━━━━━━━━━━━━━━━\u001B[0m\u001B[37m\u001B[0m \u001B[1m1s\u001B[0m 882us/step - accuracy: 0.9557 - loss: 0.1170 - val_accuracy: 0.9694 - val_loss: 0.0916\n",
      "Epoch 21/50\n",
      "\u001B[1m900/900\u001B[0m \u001B[32m━━━━━━━━━━━━━━━━━━━━\u001B[0m\u001B[37m\u001B[0m \u001B[1m1s\u001B[0m 916us/step - accuracy: 0.9521 - loss: 0.1314 - val_accuracy: 0.9688 - val_loss: 0.0907\n",
      "Epoch 22/50\n",
      "\u001B[1m900/900\u001B[0m \u001B[32m━━━━━━━━━━━━━━━━━━━━\u001B[0m\u001B[37m\u001B[0m \u001B[1m1s\u001B[0m 919us/step - accuracy: 0.9582 - loss: 0.1127 - val_accuracy: 0.9678 - val_loss: 0.0898\n",
      "Epoch 23/50\n",
      "\u001B[1m900/900\u001B[0m \u001B[32m━━━━━━━━━━━━━━━━━━━━\u001B[0m\u001B[37m\u001B[0m \u001B[1m1s\u001B[0m 885us/step - accuracy: 0.9598 - loss: 0.1093 - val_accuracy: 0.9244 - val_loss: 0.1709\n",
      "Epoch 24/50\n",
      "\u001B[1m900/900\u001B[0m \u001B[32m━━━━━━━━━━━━━━━━━━━━\u001B[0m\u001B[37m\u001B[0m \u001B[1m1s\u001B[0m 884us/step - accuracy: 0.9498 - loss: 0.1339 - val_accuracy: 0.9488 - val_loss: 0.1261\n",
      "Epoch 25/50\n",
      "\u001B[1m900/900\u001B[0m \u001B[32m━━━━━━━━━━━━━━━━━━━━\u001B[0m\u001B[37m\u001B[0m \u001B[1m1s\u001B[0m 885us/step - accuracy: 0.9532 - loss: 0.1235 - val_accuracy: 0.9513 - val_loss: 0.1201\n",
      "Epoch 26/50\n",
      "\u001B[1m900/900\u001B[0m \u001B[32m━━━━━━━━━━━━━━━━━━━━\u001B[0m\u001B[37m\u001B[0m \u001B[1m1s\u001B[0m 872us/step - accuracy: 0.9586 - loss: 0.1134 - val_accuracy: 0.9619 - val_loss: 0.1055\n",
      "Epoch 27/50\n",
      "\u001B[1m900/900\u001B[0m \u001B[32m━━━━━━━━━━━━━━━━━━━━\u001B[0m\u001B[37m\u001B[0m \u001B[1m1s\u001B[0m 1ms/step - accuracy: 0.9557 - loss: 0.1208 - val_accuracy: 0.9578 - val_loss: 0.1088\n",
      "Epoch 28/50\n",
      "\u001B[1m900/900\u001B[0m \u001B[32m━━━━━━━━━━━━━━━━━━━━\u001B[0m\u001B[37m\u001B[0m \u001B[1m1s\u001B[0m 937us/step - accuracy: 0.9561 - loss: 0.1195 - val_accuracy: 0.9475 - val_loss: 0.1280\n",
      "Epoch 29/50\n",
      "\u001B[1m900/900\u001B[0m \u001B[32m━━━━━━━━━━━━━━━━━━━━\u001B[0m\u001B[37m\u001B[0m \u001B[1m1s\u001B[0m 887us/step - accuracy: 0.9575 - loss: 0.1192 - val_accuracy: 0.9278 - val_loss: 0.1653\n",
      "Epoch 30/50\n",
      "\u001B[1m900/900\u001B[0m \u001B[32m━━━━━━━━━━━━━━━━━━━━\u001B[0m\u001B[37m\u001B[0m \u001B[1m1s\u001B[0m 919us/step - accuracy: 0.9590 - loss: 0.1151 - val_accuracy: 0.9491 - val_loss: 0.1262\n",
      "Epoch 31/50\n",
      "\u001B[1m900/900\u001B[0m \u001B[32m━━━━━━━━━━━━━━━━━━━━\u001B[0m\u001B[37m\u001B[0m \u001B[1m1s\u001B[0m 886us/step - accuracy: 0.9579 - loss: 0.1151 - val_accuracy: 0.9459 - val_loss: 0.1315\n",
      "Epoch 32/50\n",
      "\u001B[1m900/900\u001B[0m \u001B[32m━━━━━━━━━━━━━━━━━━━━\u001B[0m\u001B[37m\u001B[0m \u001B[1m1s\u001B[0m 945us/step - accuracy: 0.9567 - loss: 0.1197 - val_accuracy: 0.9287 - val_loss: 0.1645\n",
      "Epoch 33/50\n",
      "\u001B[1m900/900\u001B[0m \u001B[32m━━━━━━━━━━━━━━━━━━━━\u001B[0m\u001B[37m\u001B[0m \u001B[1m1s\u001B[0m 896us/step - accuracy: 0.9574 - loss: 0.1170 - val_accuracy: 0.9403 - val_loss: 0.1444\n",
      "Epoch 34/50\n",
      "\u001B[1m900/900\u001B[0m \u001B[32m━━━━━━━━━━━━━━━━━━━━\u001B[0m\u001B[37m\u001B[0m \u001B[1m1s\u001B[0m 895us/step - accuracy: 0.9644 - loss: 0.1023 - val_accuracy: 0.9312 - val_loss: 0.1729\n",
      "Epoch 35/50\n",
      "\u001B[1m900/900\u001B[0m \u001B[32m━━━━━━━━━━━━━━━━━━━━\u001B[0m\u001B[37m\u001B[0m \u001B[1m1s\u001B[0m 861us/step - accuracy: 0.9576 - loss: 0.1204 - val_accuracy: 0.9353 - val_loss: 0.1579\n",
      "Epoch 36/50\n",
      "\u001B[1m900/900\u001B[0m \u001B[32m━━━━━━━━━━━━━━━━━━━━\u001B[0m\u001B[37m\u001B[0m \u001B[1m1s\u001B[0m 877us/step - accuracy: 0.9608 - loss: 0.1105 - val_accuracy: 0.9356 - val_loss: 0.1629\n",
      "Epoch 37/50\n",
      "\u001B[1m900/900\u001B[0m \u001B[32m━━━━━━━━━━━━━━━━━━━━\u001B[0m\u001B[37m\u001B[0m \u001B[1m1s\u001B[0m 865us/step - accuracy: 0.9596 - loss: 0.1109 - val_accuracy: 0.9609 - val_loss: 0.0996\n",
      "Epoch 38/50\n",
      "\u001B[1m900/900\u001B[0m \u001B[32m━━━━━━━━━━━━━━━━━━━━\u001B[0m\u001B[37m\u001B[0m \u001B[1m1s\u001B[0m 868us/step - accuracy: 0.9593 - loss: 0.1120 - val_accuracy: 0.9469 - val_loss: 0.1363\n",
      "Epoch 39/50\n",
      "\u001B[1m900/900\u001B[0m \u001B[32m━━━━━━━━━━━━━━━━━━━━\u001B[0m\u001B[37m\u001B[0m \u001B[1m1s\u001B[0m 882us/step - accuracy: 0.9642 - loss: 0.1025 - val_accuracy: 0.9553 - val_loss: 0.1194\n",
      "Epoch 40/50\n",
      "\u001B[1m900/900\u001B[0m \u001B[32m━━━━━━━━━━━━━━━━━━━━\u001B[0m\u001B[37m\u001B[0m \u001B[1m1s\u001B[0m 883us/step - accuracy: 0.9597 - loss: 0.1083 - val_accuracy: 0.9353 - val_loss: 0.1623\n",
      "Epoch 41/50\n",
      "\u001B[1m900/900\u001B[0m \u001B[32m━━━━━━━━━━━━━━━━━━━━\u001B[0m\u001B[37m\u001B[0m \u001B[1m1s\u001B[0m 893us/step - accuracy: 0.9630 - loss: 0.1033 - val_accuracy: 0.9566 - val_loss: 0.1148\n",
      "Epoch 42/50\n",
      "\u001B[1m900/900\u001B[0m \u001B[32m━━━━━━━━━━━━━━━━━━━━\u001B[0m\u001B[37m\u001B[0m \u001B[1m1s\u001B[0m 891us/step - accuracy: 0.9612 - loss: 0.1082 - val_accuracy: 0.9203 - val_loss: 0.1917\n",
      "Epoch 43/50\n",
      "\u001B[1m900/900\u001B[0m \u001B[32m━━━━━━━━━━━━━━━━━━━━\u001B[0m\u001B[37m\u001B[0m \u001B[1m1s\u001B[0m 883us/step - accuracy: 0.9632 - loss: 0.1041 - val_accuracy: 0.9400 - val_loss: 0.1450\n",
      "Epoch 44/50\n",
      "\u001B[1m900/900\u001B[0m \u001B[32m━━━━━━━━━━━━━━━━━━━━\u001B[0m\u001B[37m\u001B[0m \u001B[1m1s\u001B[0m 873us/step - accuracy: 0.9647 - loss: 0.1005 - val_accuracy: 0.9319 - val_loss: 0.1728\n",
      "Epoch 45/50\n",
      "\u001B[1m900/900\u001B[0m \u001B[32m━━━━━━━━━━━━━━━━━━━━\u001B[0m\u001B[37m\u001B[0m \u001B[1m1s\u001B[0m 864us/step - accuracy: 0.9671 - loss: 0.0971 - val_accuracy: 0.9062 - val_loss: 0.2338\n",
      "Epoch 46/50\n",
      "\u001B[1m900/900\u001B[0m \u001B[32m━━━━━━━━━━━━━━━━━━━━\u001B[0m\u001B[37m\u001B[0m \u001B[1m1s\u001B[0m 871us/step - accuracy: 0.9597 - loss: 0.1120 - val_accuracy: 0.9519 - val_loss: 0.1261\n",
      "Epoch 47/50\n",
      "\u001B[1m900/900\u001B[0m \u001B[32m━━━━━━━━━━━━━━━━━━━━\u001B[0m\u001B[37m\u001B[0m \u001B[1m1s\u001B[0m 878us/step - accuracy: 0.9660 - loss: 0.1009 - val_accuracy: 0.9212 - val_loss: 0.2113\n",
      "Epoch 48/50\n",
      "\u001B[1m900/900\u001B[0m \u001B[32m━━━━━━━━━━━━━━━━━━━━\u001B[0m\u001B[37m\u001B[0m \u001B[1m1s\u001B[0m 861us/step - accuracy: 0.9634 - loss: 0.1055 - val_accuracy: 0.9369 - val_loss: 0.1567\n",
      "Epoch 49/50\n",
      "\u001B[1m900/900\u001B[0m \u001B[32m━━━━━━━━━━━━━━━━━━━━\u001B[0m\u001B[37m\u001B[0m \u001B[1m1s\u001B[0m 883us/step - accuracy: 0.9665 - loss: 0.0959 - val_accuracy: 0.9650 - val_loss: 0.0941\n",
      "Epoch 50/50\n",
      "\u001B[1m900/900\u001B[0m \u001B[32m━━━━━━━━━━━━━━━━━━━━\u001B[0m\u001B[37m\u001B[0m \u001B[1m1s\u001B[0m 870us/step - accuracy: 0.9639 - loss: 0.1016 - val_accuracy: 0.9269 - val_loss: 0.1819\n"
     ]
    }
   ],
   "source": [
    "history = model.fit(X_train, y_train, epochs=50, batch_size=32, validation_split=0.1)\n"
   ]
  },
  {
   "cell_type": "code",
   "execution_count": 12,
   "metadata": {
    "ExecuteTime": {
     "end_time": "2024-10-22T04:00:34.753438Z",
     "start_time": "2024-10-22T04:00:34.642418Z"
    }
   },
   "outputs": [
    {
     "name": "stdout",
     "output_type": "stream",
     "text": [
      "250/250 - 0s - 367us/step - accuracy: 0.9236 - loss: 0.1849\n",
      "\n",
      "测试集准确率: 0.9236249923706055\n"
     ]
    }
   ],
   "source": [
    "test_loss, test_acc = model.evaluate(X_test, y_test, verbose=2)\n",
    "print(\"\\n测试集准确率:\", test_acc)"
   ]
  },
  {
   "cell_type": "code",
   "execution_count": 13,
   "metadata": {
    "ExecuteTime": {
     "end_time": "2024-10-22T04:00:34.959105Z",
     "start_time": "2024-10-22T04:00:34.752832Z"
    }
   },
   "outputs": [
    {
     "name": "stdout",
     "output_type": "stream",
     "text": [
      "\u001B[1m250/250\u001B[0m \u001B[32m━━━━━━━━━━━━━━━━━━━━\u001B[0m\u001B[37m\u001B[0m \u001B[1m0s\u001B[0m 363us/step\n",
      "预测的类别： [2 1 3 ... 1 0 2]\n",
      "真实的类别： [2 1 3 ... 1 0 2]\n",
      "              precision    recall  f1-score   support\n",
      "\n",
      "        jump       1.00      1.00      1.00      2047\n",
      "         run       0.99      0.69      0.82      1967\n",
      "       stand       1.00      1.00      1.00      2000\n",
      "        walk       0.77      0.99      0.87      1986\n",
      "\n",
      "    accuracy                           0.92      8000\n",
      "   macro avg       0.94      0.92      0.92      8000\n",
      "weighted avg       0.94      0.92      0.92      8000\n"
     ]
    }
   ],
   "source": [
    "y_pred = model.predict(X_test)\n",
    "y_pred_classes = np.argmax(y_pred, axis=1)\n",
    "print(\"预测的类别：\", y_pred_classes)\n",
    "print(\"真实的类别：\", y_test)\n",
    "y_test_labels = label_encoder.inverse_transform(y_test)\n",
    "y_pred_labels = label_encoder.inverse_transform(y_pred_classes)\n",
    "\n",
    "print(classification_report(y_test_labels, y_pred_labels))\n"
   ]
  },
  {
   "cell_type": "code",
   "execution_count": 17,
   "metadata": {
    "ExecuteTime": {
     "end_time": "2024-10-22T04:01:22.843595Z",
     "start_time": "2024-10-22T04:01:22.810383Z"
    }
   },
   "outputs": [],
   "source": [
    "model.save(\"pose.keras\")"
   ]
  },
  {
   "cell_type": "code",
   "execution_count": null,
   "outputs": [],
   "source": [],
   "metadata": {
    "collapsed": false
   }
  }
 ],
 "metadata": {
  "kernelspec": {
   "display_name": "yolo-pose-estimation-DqWaCygJ-py3.12",
   "language": "python",
   "name": "python3"
  },
  "language_info": {
   "codemirror_mode": {
    "name": "ipython",
    "version": 3
   },
   "file_extension": ".py",
   "mimetype": "text/x-python",
   "name": "python",
   "nbconvert_exporter": "python",
   "pygments_lexer": "ipython3",
   "version": "3.12.7"
  }
 },
 "nbformat": 4,
 "nbformat_minor": 2
}
